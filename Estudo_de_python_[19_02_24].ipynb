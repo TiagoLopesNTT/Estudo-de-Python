{
  "nbformat": 4,
  "nbformat_minor": 0,
  "metadata": {
    "colab": {
      "provenance": []
    },
    "kernelspec": {
      "name": "python3",
      "display_name": "Python 3"
    },
    "language_info": {
      "name": "python"
    }
  },
  "cells": [
    {
      "cell_type": "markdown",
      "source": [
        "## 1. Fundamentos de python"
      ],
      "metadata": {
        "id": "3pHaDpJ7xV5C"
      }
    },
    {
      "cell_type": "code",
      "execution_count": 6,
      "metadata": {
        "colab": {
          "base_uri": "https://localhost:8080/"
        },
        "id": "DNquSru5vI-S",
        "outputId": "3254d9d5-3f8e-438c-a813-9ded080613df"
      },
      "outputs": [
        {
          "output_type": "execute_result",
          "data": {
            "text/plain": [
              "70"
            ]
          },
          "metadata": {},
          "execution_count": 6
        }
      ],
      "source": [
        "# 1\n",
        "#Enter Python code here and hit the Run button.\n",
        "def processamento(number1, number2):\n",
        "  product = number1 * number2\n",
        "\n",
        "  if (product <= 1000):\n",
        "    return product\n",
        "  else:\n",
        "    return (number1 + number2)\n",
        "\n",
        "processamento(40, 30)"
      ]
    },
    {
      "cell_type": "code",
      "source": [
        "# 2\n",
        "def iteracao_10():\n",
        "  print(\"Printing current and previous number sum in a range(10)\")\n",
        "  for x in range (10):\n",
        "\n",
        "    # previous number\n",
        "    # if (x - 1 <= 0):\n",
        "    #   previous = 0\n",
        "    # else:\n",
        "    #   previous = x - 1\n",
        "\n",
        "    # 2ª forma de calcular\n",
        "    previous_function = lambda x: 0 if (x - 1 <= 0) else x - 1\n",
        "    previous_number = previous_function(x)\n",
        "\n",
        "    # sum\n",
        "    sum = x + previous_number\n",
        "\n",
        "    print(\"Current Number \" , x , \" Previous Number  \" , previous_number , \"  Sum:  \", sum)\n",
        "\n",
        "iteracao_10()\n",
        "\n"
      ],
      "metadata": {
        "colab": {
          "base_uri": "https://localhost:8080/"
        },
        "id": "oU_Amik5xhEp",
        "outputId": "0f8bae07-599a-4333-f4dc-ee98f216f1c2"
      },
      "execution_count": 16,
      "outputs": [
        {
          "output_type": "stream",
          "name": "stdout",
          "text": [
            "Printing current and previous number sum in a range(10)\n",
            "Current Number  0  Previous Number   0   Sum:   0\n",
            "Current Number  1  Previous Number   0   Sum:   1\n",
            "Current Number  2  Previous Number   1   Sum:   3\n",
            "Current Number  3  Previous Number   2   Sum:   5\n",
            "Current Number  4  Previous Number   3   Sum:   7\n",
            "Current Number  5  Previous Number   4   Sum:   9\n",
            "Current Number  6  Previous Number   5   Sum:   11\n",
            "Current Number  7  Previous Number   6   Sum:   13\n",
            "Current Number  8  Previous Number   7   Sum:   15\n",
            "Current Number  9  Previous Number   8   Sum:   17\n"
          ]
        }
      ]
    }
  ]
}