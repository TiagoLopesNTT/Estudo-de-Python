{
  "nbformat": 4,
  "nbformat_minor": 0,
  "metadata": {
    "colab": {
      "provenance": []
    },
    "kernelspec": {
      "name": "python3",
      "display_name": "Python 3"
    },
    "language_info": {
      "name": "python"
    }
  },
  "cells": [
    {
      "cell_type": "markdown",
      "source": [
        "## 1. Fundamentos de python"
      ],
      "metadata": {
        "id": "3pHaDpJ7xV5C"
      }
    },
    {
      "cell_type": "code",
      "execution_count": null,
      "metadata": {
        "colab": {
          "base_uri": "https://localhost:8080/"
        },
        "id": "DNquSru5vI-S",
        "outputId": "3254d9d5-3f8e-438c-a813-9ded080613df"
      },
      "outputs": [
        {
          "output_type": "execute_result",
          "data": {
            "text/plain": [
              "70"
            ]
          },
          "metadata": {},
          "execution_count": 6
        }
      ],
      "source": [
        "# 1\n",
        "#Enter Python code here and hit the Run button.\n",
        "def processamento(number1, number2):\n",
        "  product = number1 * number2\n",
        "\n",
        "  if (product <= 1000):\n",
        "    return product\n",
        "  else:\n",
        "    return (number1 + number2)\n",
        "\n",
        "processamento(40, 30)"
      ]
    },
    {
      "cell_type": "code",
      "source": [
        "# 2\n",
        "def iteracao_10():\n",
        "  print(\"Printing current and previous number sum in a range(10)\")\n",
        "  for x in range (10):\n",
        "\n",
        "    # previous number\n",
        "    # if (x - 1 <= 0):\n",
        "    #   previous = 0\n",
        "    # else:\n",
        "    #   previous = x - 1\n",
        "\n",
        "    # 2ª forma de calcular\n",
        "    previous_function = lambda x: 0 if (x - 1 <= 0) else x - 1\n",
        "    previous_number = previous_function(x)\n",
        "\n",
        "    # sum\n",
        "    sum = x + previous_number\n",
        "\n",
        "    print(\"Current Number \" , x , \" Previous Number  \" , previous_number , \"  Sum:  \", sum)\n",
        "\n",
        "iteracao_10()\n",
        "\n"
      ],
      "metadata": {
        "id": "oU_Amik5xhEp"
      },
      "execution_count": null,
      "outputs": []
    },
    {
      "cell_type": "code",
      "source": [
        "# 3\n",
        "# Exibindo apenas caracteres quando o index for par\n",
        "def even_characters():\n",
        "  print(\"Digite uma palavra para ser tratada:\")\n",
        "  word = input()\n",
        "\n",
        "  word_len = len(word)\n",
        "\n",
        "  for x in range(0, word_len - 1, 2):\n",
        "    print( word[x])\n",
        "\n",
        "even_characters()"
      ],
      "metadata": {
        "colab": {
          "base_uri": "https://localhost:8080/"
        },
        "id": "KryqYv4y4AlV",
        "outputId": "94886d55-35ca-461e-fb59-c778c6e75afb"
      },
      "execution_count": 38,
      "outputs": [
        {
          "output_type": "stream",
          "name": "stdout",
          "text": [
            "Digite uma palavra para ser tratada:\n",
            "Eunuco de faraó\n",
            "E\n",
            "n\n",
            "c\n",
            " \n",
            "e\n",
            "f\n",
            "r\n"
          ]
        }
      ]
    }
  ]
}